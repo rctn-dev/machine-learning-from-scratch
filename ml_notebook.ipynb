{
 "cells": [
  {
   "cell_type": "markdown",
   "metadata": {},
   "source": [
    "# MACHINE LEARNING FROM SCRATCH    \n",
    "* Machine learning is the field of study that gives computers the ability to <span style=\"color:orange\">learn without being explicitly programmmed</span>.  \n",
    "* Two main types of machine learning are <span style=\"color:orange\">supervised learning</span> and <span style=\"color:orange\">unsupervised learning</span>.  \n",
    "* Of these two, the supervised learning is the type of machine learning that is used most in many real-world applications and has seen the most rapid advancements and innovation. "
   ]
  },
  {
   "cell_type": "markdown",
   "metadata": {},
   "source": [
    "# 1. Supervised Learning  \n",
    "* The 99% of the economic value created by machine learning today is through one type of machine learning, which is called supervised learning.\n",
    "* Supervised learning maps input (x) to output (y), where the learning algorithm learns from the <span style=\"color:orange\">right</span> answers.\n",
    "* Key characteristic of supervised learning is that you give your learning algorithm examples to learn from, called <span style=\"color:orange\">training set</span>.\n",
    "* The two major types of supervised learning are <span style=\"color:orange\">regression</span> and <span style=\"color:orange\">classification</span>."
   ]
  },
  {
   "cell_type": "markdown",
   "metadata": {},
   "source": [
    "### 1.1 Regression\n",
    "* In a regression application, the learning algorithm has to predict numbers from within <span style=\"color:orange\">infinitely-many options</span>. In other words, it is used to <span style=\"color:orange\">predict continuous values</span>. To clarify, assume you have a prediction function which might pick any real number within the real number range of (0,1) as an output result such as 0.19, 0.73456, or 0.2717876756.\n",
    "    * The House price prediction problem is a typical example of these kinds of problems.\n",
    "* The ultimate goal of the regression algorithm is to <span style=\"color:orange\">plot a best-fit line or a curve</span> between the data.\n",
    "* There are right answers, i.e., labels, within the given dataset since it is still supervised learning."
   ]
  },
  {
   "cell_type": "code",
   "execution_count": null,
   "metadata": {},
   "outputs": [],
   "source": []
  },
  {
   "cell_type": "markdown",
   "metadata": {},
   "source": [
    "### 1.2 Linear Regression"
   ]
  },
  {
   "cell_type": "code",
   "execution_count": null,
   "metadata": {},
   "outputs": [],
   "source": []
  },
  {
   "cell_type": "markdown",
   "metadata": {},
   "source": [
    "#### 1.2.1 Cost Function"
   ]
  },
  {
   "cell_type": "code",
   "execution_count": null,
   "metadata": {},
   "outputs": [],
   "source": []
  },
  {
   "cell_type": "markdown",
   "metadata": {},
   "source": [
    "#### 1.2.2 Training with Gradient Descent"
   ]
  },
  {
   "cell_type": "code",
   "execution_count": null,
   "metadata": {},
   "outputs": [],
   "source": []
  },
  {
   "cell_type": "markdown",
   "metadata": {},
   "source": [
    "### 1.2 Classification \n",
    "* While the regression type learning tries to predict an output among infinitely-many options, the classification type tries to predict the output, i.e. classes or categories, within only a small number, i.e., <span style=\"color:orange\">finitely-many options</span>. \n",
    "* The ultimate goal of the classification algorithm is to <span style=\"color:orange\">find a boundary line</span> that seperates actual outputs.\n",
    "* Categories (classes) can be <span style=\"color:orange\">numeric</span> like 0, 1 or 0, 1, 2. Neverthelesss, they don't have to be numbers, they can be <span style=\"color:orange\">non-numeric</span>. To illustrate, the classification can predict whether a picture is that of a cat or a dog or it can predict if a tumor is benign or malignant.\n",
    "* There are right answers,i.e., labels, within the given dataset since it is still supervised learning. \n",
    "* Some examples of classification can be as follows;  \n",
    "    * Given email labeled as spam/not spam, design a spam filter.\n",
    "    * Given a dataset of patients diagnosed as either having diabetes or not, learn to classify new patients as having diabetes or not.\n",
    "    * Given pictures of dogs, cats, and wolves, learn to classify if a new picture is that of a dog, cat, or wolf."
   ]
  },
  {
   "cell_type": "code",
   "execution_count": null,
   "metadata": {},
   "outputs": [],
   "source": []
  },
  {
   "cell_type": "markdown",
   "metadata": {},
   "source": [
    "# 2. Unsupervised Learning\n",
    "* While the data comes with both inputs (x) and output labels (y) in supervised learning, the data comes <span style=\"color:orange\"> only with inputs (x)</span> in unsupervised learning  and the learning algorithm has to find some structure, some pattern or <span style=\"color:orange\">something interesting in the data.</span>\n",
    "* After supervised learning, the most widely used form of machine learning is unsupervised learning.\n",
    "* Assume that a dataset is given with patient's tumor size and the patient's age but not whether the tumor is benign or malignant.  Our job is to find some structure or some pattern or just find something interesting in the data. This is unsupervised learning, we call it unsupervised because we're not trying to supervise the algorithm."
   ]
  },
  {
   "cell_type": "code",
   "execution_count": null,
   "metadata": {},
   "outputs": [],
   "source": []
  },
  {
   "cell_type": "markdown",
   "metadata": {},
   "source": [
    "### 2.1 Clustering\n",
    "* The clustering algorithm is a type of unsupervised learning algorithm, takes data without labels and tries to automatically group them into clusters.\n",
    "* A clustering algorithm groups similar data points together\n",
    "    * Given a database of customer data, automatically discover market segments and group customers into different market segments.\n",
    "    * Given a set of news articles found on the web, group them into sets of articles about the same stories.\n",
    "    * Other good examples of clustering type unsupervised learning are DNA micro array."
   ]
  }
 ],
 "metadata": {
  "language_info": {
   "name": "python"
  },
  "orig_nbformat": 4
 },
 "nbformat": 4,
 "nbformat_minor": 2
}
