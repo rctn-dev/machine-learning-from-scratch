{
 "cells": [
  {
   "cell_type": "markdown",
   "metadata": {},
   "source": [
    "# NEURAL NETWORKS FROM SCRATCH\n",
    "*  The intuition behind a neural network is just that it is a version of logistic regression with enhanced feature engineering capability since it can learn (engineer) its own features, realized as hidden layers in the context, that makes it easier to make accurate predictions. Remember that we were making feature engineering manually for better predictions with traditional machine learning such as linear and logistic regressions."
   ]
  },
  {
   "cell_type": "code",
   "execution_count": null,
   "metadata": {},
   "outputs": [],
   "source": []
  }
 ],
 "metadata": {
  "kernelspec": {
   "display_name": "machine-learning-from-scratch-TncciM55",
   "language": "python",
   "name": "python3"
  },
  "language_info": {
   "name": "python",
   "version": "3.11.0"
  }
 },
 "nbformat": 4,
 "nbformat_minor": 2
}
